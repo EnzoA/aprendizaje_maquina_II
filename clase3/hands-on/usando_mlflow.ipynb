{
 "cells": [
  {
   "cell_type": "code",
   "outputs": [],
   "source": [
    "import mlflow\n",
    "\n",
    "import numpy as np\n",
    "import pandas as pd"
   ],
   "metadata": {
    "collapsed": false,
    "ExecuteTime": {
     "end_time": "2024-04-13T03:15:48.945538Z",
     "start_time": "2024-04-13T03:15:47.430415Z"
    }
   },
   "id": "eb5ff88ab0258ddf",
   "execution_count": 1
  },
  {
   "cell_type": "markdown",
   "source": [
    "# MLFlow\n",
    "\n",
    "Como hemos explorado en clase, MLFlow es una herramienta de código abierto diseñada para gestionar de manera eficiente el ciclo de vida completo de los modelos de Machine Learning. Este \n",
    "conjunto de funcionalidades incluye varios aspectos fundamentales:\n",
    "\n",
    "- **Tracking**: Registra de forma sistemática los resultados y parámetros de los modelos durante su entrenamiento, permitiendo una comparación fácil y una comprensión más profunda de \n",
    "su rendimiento.\n",
    "- **Projects**: Empaqueta el código de manera que sea completamente reproducible, facilitando la colaboración entre equipos y garantizando la portabilidad del código en diferentes entornos.\n",
    "- **Models**: Proporciona herramientas para gestionar el versionado de los modelos, así como para desplegar modelos de ML como endpoints de servicio. Esta capacidad es especialmente \n",
    "valiosa, ya que MLFlow ofrece integraciones para el despliegue de modelos en la nube. Además, permite la exportación de modelos compatibles con Apache Spark.\n",
    "\n",
    "## Instalación de MLFlow\n",
    "\n",
    "Para este hands-on, utilizaremos Docker para configurar un entorno de MLFlow que nos permitirá acceder a todas las funcionalidades necesarias. Utilizaremos Docker Compose para orquestar \n",
    "no solo el servicio de MLFlow, sino también una base de datos PostgreSQL y buckets S3 utilizando MinIO. MLFlow utiliza tanto la base de datos como el bucket para almacenar \n",
    "información relevante sobre los modelos.\n",
    "\n",
    "Para comenzar con este hands-on, ejecutamos el siguiente comando para levantar los servicios:\n",
    "\n",
    "```Bash\n",
    "docker-compose up \n",
    "```\n",
    "\n",
    "Este comando garantizará que todos los servicios necesarios estén disponibles y listos para su uso en nuestro entorno de desarrollo de MLFlow.\n",
    "\n",
    "## MLFlow Tracking\n",
    "\n",
    "### Conceptos importantes sobre MLFlow Tracking\n",
    "\n",
    "Guardar el tracking de nuestros modelos en nuestro servidor de MLflow es muy sencillo. Simplemente hay que hacer:"
   ],
   "metadata": {
    "collapsed": false
   },
   "id": "8aaf335d5d202a7c"
  },
  {
   "cell_type": "code",
   "outputs": [],
   "source": [
    "mlflow.set_tracking_uri('http://xx.xxx.xxx.xxx:8080')"
   ],
   "metadata": {
    "collapsed": false
   },
   "id": "18084b3d2f776d6d"
  },
  {
   "cell_type": "markdown",
   "source": [
    "Con esto, ya tendremos hecha la conexión con nuestro servidor de MLFlow\n",
    "\n",
    "Opcionalmente, podemos crear un experimento donde incluir los parámetros, si es que no lo tenemos ya. Cada proyecto diferente debería tener su propio experimento. Para ello, usaremos el \n",
    "método `create_experiment`:"
   ],
   "metadata": {
    "collapsed": false
   },
   "id": "c94fbffd61a15d81"
  },
  {
   "cell_type": "code",
   "outputs": [],
   "source": [
    "experiment_name = \"experiment_number_9\"\n",
    "\n",
    "if not mlflow.get_experiment_by_name(experiment_name):\n",
    "    mlflow.create_experiment(name=experiment_name)"
   ],
   "metadata": {
    "collapsed": false
   },
   "id": "20084ee800ef6511"
  },
  {
   "cell_type": "markdown",
   "source": [
    "Existe los siguientes datos que podemos incluir en MLflow:\n",
    "\n",
    "- **Parámetros del modelo**: Indica parámetros del modelo utilizado. Se registran usando el método `log_param`.\n",
    "- **Métricas**: Se refiere a métricas de rendimiento, tales como el RMSE, accuracy, AUC, etc. Se registran usando el método `log_metric`.\n",
    "- **Artefactos**: permite incluir archivos. El uso típico es incluir datos de entrenamiento, imágenes del entrenamiento, etc. Los artefactos se registran usando el método `log_artifact`.\n",
    "- **Modelos**: permite incluir modelos. Los modelos se registran usando el método `log_model`. Además, MLFlow cuenta con tecnicas de auto-registro para las librerías Scikit-Learn, TensorFlow, \n",
    "Gluon, XGBoost, LightGBM, Statsmodels. Es decir, que se puede usar el método `autolog` y MLFlow automáticamente registrará los datos que vayamos generando. \n",
    "\n",
    "Para poder registrar, antes debemos indicar a MLFlow que *escuche*. Esto se puede hacer de dos formas:\n",
    "\n",
    "1. Usar el método `star_run` junto con with para evitar cerrar el proceso.\n",
    "```Python\n",
    "with mlflow.start_run():\n",
    "   mlflow.log_param('max_depth', max_depth)\n",
    "```\n",
    "\n",
    "2. Usar el método `start_run` y `end_run`\n",
    "```Python\n",
    "mlflow.start_run() \n",
    "mlflow.log_param('max_depth', max_depth) \n",
    "mlflow.end_run()\n",
    "```\n",
    "\n",
    "### Usando MLFlow con un ejemplo de Iris-Dataset\n",
    "\n",
    "Vamos a emplear MLFlow para entrenar un modelo utilizando el conjunto de datos Iris. El modelo que utilizaremos será Random Forest de Scikit-Learn. Realizaremos una búsqueda \n",
    "de hiperparámetros mediante una búsqueda en cuadrícula y registraremos los mejores parámetros encontrados."
   ],
   "metadata": {
    "collapsed": false
   },
   "id": "83aa3ef357c4e67e"
  },
  {
   "cell_type": "code",
   "outputs": [],
   "source": [
    "from sklearn.datasets import load_iris\n",
    "from sklearn.model_selection import GridSearchCV, train_test_split\n",
    "from sklearn.ensemble import RandomForestClassifier\n",
    "from sklearn.metrics import precision_score, accuracy_score, recall_score"
   ],
   "metadata": {
    "collapsed": false
   },
   "id": "57f97ec35d3b9c42"
  },
  {
   "cell_type": "code",
   "outputs": [],
   "source": [
    "mlflow.set_tracking_uri('http://xx.xxx.xxx.xxx:8080')"
   ],
   "metadata": {
    "collapsed": false
   },
   "id": "29c9f7d6a511f59"
  },
  {
   "cell_type": "code",
   "outputs": [],
   "source": [
    "experiment_name = \"experiment_iris\"\n",
    "\n",
    "if not mlflow.get_experiment_by_name(experiment_name):\n",
    "    mlflow.create_experiment(name=experiment_name) \n",
    "\n",
    "experiment = mlflow.get_experiment_by_name(experiment_name)"
   ],
   "metadata": {
    "collapsed": false
   },
   "id": "54e00756039b40b"
  },
  {
   "cell_type": "code",
   "outputs": [],
   "source": [
    "# Cargo los datos\n",
    "data = load_iris()\n",
    "\n",
    "# Separamos entre evaluación y testeo\n",
    "X_train, X_test, y_train, y_test = train_test_split(data['data'], data['target'], test_size= 0.2, random_state= 42)"
   ],
   "metadata": {
    "collapsed": false
   },
   "id": "18af875707a1330c"
  },
  {
   "cell_type": "code",
   "outputs": [],
   "source": [
    "# Armamos el modelo base\n",
    "model = RandomForestClassifier()"
   ],
   "metadata": {
    "collapsed": false
   },
   "id": "c893fd0ac347cb6f"
  },
  {
   "cell_type": "code",
   "outputs": [],
   "source": [
    "# Definimos los hiperparámetros para la búsqueda\n",
    "grid = {\n",
    "    'max_depth':[6,8,10], \n",
    "    'min_samples_split':[2,3,4,5],\n",
    "    'min_samples_leaf':[2,3,4,5],\n",
    "    'max_features': [2,3]\n",
    "    }\n",
    "\n",
    "# Hacemos la búsqueda\n",
    "iris_grid = GridSearchCV(model, grid, cv = 5) \n",
    "iris_grid_results = iris_grid.fit(X_train, y_train)\n",
    "\n",
    "print(f'Los mejores parámetros son: {iris_grid_results.best_params_}')"
   ],
   "metadata": {
    "collapsed": false
   },
   "id": "884f3fe2547dbf8c"
  },
  {
   "cell_type": "markdown",
   "source": [
    "Con el mejor modelo, registramos toda la información:"
   ],
   "metadata": {
    "collapsed": false
   },
   "id": "e5e00d2709ae57e1"
  },
  {
   "cell_type": "code",
   "outputs": [],
   "source": [
    "with mlflow.start_run(experiment_id = experiment.experiment_id):\n",
    "    # Se registran los mejores hiperparámetros\n",
    "    mlflow.log_params(iris_grid_results.best_params_)\n",
    "    \n",
    "    # Se obtiene las predicciones del dataset de evaluación\n",
    "    y_pred = iris_grid_results.predict(X_test)\n",
    "    \n",
    "    # Se calculan las métricas\n",
    "    accuracy = accuracy_score(y_test, y_pred)\n",
    "    precision = precision_score(y_test, y_pred, average='weighted')\n",
    "    recall = recall_score(y_test, y_pred, average='weighted')\n",
    "    print(f'Accuracy: {accuracy}')\n",
    "    print(f'Precision: {precision}')\n",
    "    print(f'Recall: {recall}')\n",
    "    \n",
    "    # Y las enviamos a MLFlow\n",
    "    metrics ={\n",
    "        'accuracy': accuracy,\n",
    "        'precision': precision, \n",
    "        'recall': recall \n",
    "        }\n",
    "    mlflow.log_metrics(metrics)\n",
    "    \n",
    "    # HACER GRAFICAS Y ENVIAR ESOS ARTEFACTOS EN VEZ DEL DATASET DE ENTRENAMIENTO\n",
    "    \n",
    "    # Registramos el modelo y los datos de entrenamiento\n",
    "    np.save('data/artifacts/x_train', X_train)\n",
    "    mlflow.log_artifact('x_train.npy')\n",
    "    \n",
    "    mlflow.sklearn.log_model(iris_grid_results, 'iris_rf')"
   ],
   "metadata": {
    "collapsed": false
   },
   "id": "e551cb588b50ffac"
  },
  {
   "cell_type": "markdown",
   "source": [
    "### Registrar un modelo\n",
    "\n",
    "Una vez que hemos subido un modelo a MLFlow, ponerlo en producción es un proceso sencillo. Para ello, nos dirigimos a la pestaña *Artifacts* del modelo que deseamos implementar. Allí, hacemos click en el botón *Register Model*,, lo que registrará el modelo en el sistema.\n",
    "\n",
    "Ahora, para obtener predicciones, tenemos dos opciones:\n",
    "\n",
    "1. Leer el artefacto del servidor de MLFlow y lo usamos para hacer predicciones.\n",
    "2. Publicar el artefacto como un endpoint.\n",
    "\n",
    "#### Hacer predicciones de un modelo de MLFlow\n",
    "\n",
    "Para obtener predicciones, vamos al apartado de *Artifacts* donde MLFlow indica cómo podemos obtener predicciones del modelo, ya sea utilizando Spark o Python. \n",
    "Copiamos ese código y lo ejecutamos, proporcionando los datos que deseamos predecir."
   ],
   "metadata": {
    "collapsed": false
   },
   "id": "2fe75edcc127c8fe"
  },
  {
   "cell_type": "code",
   "outputs": [],
   "source": [
    "logged_model = 'gs://mlflow_artifacts_bucket/artifacts/7/72c46af3d3f649569c4df0c7cdfeb263/artifacts/iris_rf_first_attempt'\n",
    "\n",
    "# Load model as a PyFuncModel.\n",
    "loaded_model = mlflow.pyfunc.load_model(logged_model)\n",
    "\n",
    "# Predict on a Pandas DataFrame.\n",
    "\n",
    "loaded_model.predict(pd.DataFrame(X_test))"
   ],
   "metadata": {
    "collapsed": false
   },
   "id": "6b444fde386b54a1"
  },
  {
   "cell_type": "markdown",
   "source": [
    "El segundo formato permite desplegar un modelo mediante una REST API. Esto queda por fuera del hands-on, pero se puede consultar más [acá](https://mlflow.org/docs/latest/deployment/index.html)."
   ],
   "metadata": {
    "collapsed": false
   },
   "id": "dc29c47dfca49e4d"
  },
  {
   "cell_type": "code",
   "execution_count": null,
   "id": "initial_id",
   "metadata": {
    "collapsed": true
   },
   "outputs": [],
   "source": [
    "# https://anderfernandez.com/blog/tutorial-mlflow-completo/\n",
    "\n",
    "# agregar lo de las artefactos "
   ]
  }
 ],
 "metadata": {
  "kernelspec": {
   "display_name": "Python 3",
   "language": "python",
   "name": "python3"
  },
  "language_info": {
   "codemirror_mode": {
    "name": "ipython",
    "version": 2
   },
   "file_extension": ".py",
   "mimetype": "text/x-python",
   "name": "python",
   "nbconvert_exporter": "python",
   "pygments_lexer": "ipython2",
   "version": "2.7.6"
  }
 },
 "nbformat": 4,
 "nbformat_minor": 5
}
