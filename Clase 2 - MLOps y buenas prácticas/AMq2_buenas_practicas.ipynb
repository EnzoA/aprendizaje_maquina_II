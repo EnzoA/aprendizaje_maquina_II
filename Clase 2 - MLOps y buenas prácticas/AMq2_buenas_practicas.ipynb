{
 "cells": [
  {
   "attachments": {},
   "cell_type": "markdown",
   "metadata": {
    "application/vnd.databricks.v1+cell": {
     "cellMetadata": {},
     "inputWidgets": {},
     "nuid": "fa917515-f1c3-4cf2-b869-d6f7c1daeaee",
     "showTitle": false,
     "title": ""
    }
   },
   "source": [
    "## Aprendizaje de máquina II\n",
    "### Carrera de especialización en inteligencia artificial  \n",
    "\n",
    "#### **BUENAS PRÁCTICAS DE PROGRAMACIÓN**\n",
    "En el siguiente notebook se presentan algunas prácticas sugeridas para mantener el código ordenado siguiendo estándares de programación comunmente utilizados.\n",
    "El objetivo es desarrollar las habilidades necesarias para poder desarrollar código listo para producción.\n",
    "\n",
    "Se tratan los siguientes temas:\n",
    "\n",
    "* Código limpio y modular: Utilización de nombres declarativos, cuando utilizar funciones y cuando clases.  \n",
    "* Refactorización y optimización del código para facilitar el uso a otros desarrolladores.\n",
    "* Documentación: se revisarán in-line comments, document strings y la documentación del proyecto.\n",
    "* Estándares PEP8 & Linting, como implementar estas mejores prácticas utilizando herramientas como AutoPEP8 y pylint\n",
    "\n",
    "----------------------\n",
    "\n",
    "Escribir código limpio se hace referencia a que el código sea fácil de leer y que sea lo más simple posible evitando redundancias. Esto es clave para facilitar el trabajo colaborativo dentro de un equipo de desarrollo.  \n",
    "Para lograr que el código sea lo más limpio posible, la programación modular nos puede ayudar. Esto quiere decir que el código está lógicamente dividido o separado en funciones y módulos más pequeños. Esta práctica facilita la organización, la eficiencia y la reutilización de ciertas partes del código.\n"
   ]
  },
  {
   "cell_type": "markdown",
   "metadata": {
    "application/vnd.databricks.v1+cell": {
     "cellMetadata": {},
     "inputWidgets": {},
     "nuid": "5a586494-c8e7-41bf-98ef-6e8cb3c58e14",
     "showTitle": false,
     "title": ""
    }
   },
   "source": [
    "Cuando se utilizan nombres poco descriptivos a veces es necesario utilizar muchos comentarios in-line para poder aclarar lo que estamos escribiendo, como en el siguiente ejemplo:"
   ]
  },
  {
   "cell_type": "code",
   "execution_count": null,
   "metadata": {
    "application/vnd.databricks.v1+cell": {
     "cellMetadata": {
      "byteLimit": 2048000,
      "rowLimit": 10000
     },
     "inputWidgets": {},
     "nuid": "8cdd3059-bbcd-4251-8e88-5cf447fa7226",
     "showTitle": false,
     "title": ""
    }
   },
   "outputs": [
    {
     "name": "stdout",
     "output_type": "stream",
     "text": [
      "46.75\n",
      "66.68249101467867\n"
     ]
    }
   ],
   "source": [
    "s = [84, 27, 42, 34] # Puntaje de los estudiantes en el examen\n",
    "print(sum(s)/len(s)) # Imprimir la media del puntaje de los estudiantes\n",
    "\n",
    "s1 = [x**0.5 * 10 for x in s] # Se proyectan (curvan) los puntajes sobre la raíz cuadrada y se almacena en una lista\n",
    "print(sum(s1)/len(s1)) # Imprimir la media de los puntajes afectados por la raíz cuadrada"
   ]
  },
  {
   "cell_type": "markdown",
   "metadata": {
    "application/vnd.databricks.v1+cell": {
     "cellMetadata": {},
     "inputWidgets": {},
     "nuid": "e5141ccd-fb84-4540-8ffc-a206e99e058c",
     "showTitle": false,
     "title": ""
    }
   },
   "source": [
    "Si optamos por utilizar nombres de variables y funciones más descriptivos, podemos obtener un código mucho más limpio y que es más facil de leer, sin la necesidad de agregar comentarios a cada línea de código. Podemos ver esto en el siguiente ejemplo:"
   ]
  },
  {
   "cell_type": "code",
   "execution_count": null,
   "metadata": {
    "application/vnd.databricks.v1+cell": {
     "cellMetadata": {
      "byteLimit": 2048000,
      "rowLimit": 10000
     },
     "inputWidgets": {},
     "nuid": "01a48b62-15c6-468f-af34-eb5b8d5cb791",
     "showTitle": false,
     "title": ""
    }
   },
   "outputs": [
    {
     "name": "stdout",
     "output_type": "stream",
     "text": [
      "46.75\n",
      "66.68249101467867\n"
     ]
    }
   ],
   "source": [
    "import math\n",
    "import numpy as np\n",
    "\n",
    "scores_list = [84, 27, 42, 34]\n",
    "print(np.mean(test_scores))\n",
    "\n",
    "curved_test_scores = [math.sqrt(score) * 10 for score in scores_list]\n",
    "print(np.mean(curved_test_scores))"
   ]
  },
  {
   "attachments": {},
   "cell_type": "markdown",
   "metadata": {
    "application/vnd.databricks.v1+cell": {
     "cellMetadata": {},
     "inputWidgets": {},
     "nuid": "777766b0-1448-454f-87e1-e30da4b6f10c",
     "showTitle": false,
     "title": ""
    }
   },
   "source": [
    "Algunas recomendaciones para poder incorporar nombres significativos son:\n",
    "* **Ser descriptivos y tratar de incorporar el tipo de lo que estamos definiendo**.  \n",
    "Por ejemplo si estamos definiendo una variable booleana podemos utilizar `is_` o `has_` para dejar en claro que es una condición. Si estamos trabajando con listas, un nombre como `clients_list` puede ser más intuitivo que `clients`.  \n",
    "Otra recomendación puede ser utilizar verbos para nombrar funciones y sustantivos para nombrar variables.\n",
    "\n",
    "* **Evitar abreviaciones y nombres de una única letra**.  \n",
    "Hay que tener en consideración quién va a necesitar leer nuestro código más adelante. Si estamos trabajando con otros científicos de datos de nuestro mismo equipo es muy probable que entiendan las abreviaciones o nombres específicos que le damos a las variables. Si, en cambio, nuestro código va a ser leido por un ingeniero de software de otro país por ejemplo, tal vez no tenga el contexto necesario para poder entender los  nombres internos que utilizamos dentro del equipo.  \n",
    "Pueden existir excepciones cuando utilizamos contadores o variables matemáticas como `x`, `y`, etc.\n",
    "\n",
    "* **Nombres largos no siempre significan nombres significativos**.  \n",
    "Tenemos que ser descriptivos pero sin utilizar más caractéres de los necesarios.  \n",
    "Por ejemplo, los nombres utilizados en la siguiente función pueden ser demasiado largos\n",
    "```\n",
    "def count_unique_values_of_names_list_with_set(names_list):\n",
    "    return len(set(names_list))\n",
    "```\n",
    "En cambio si optamos por algo como lo siguiente, puede ser más compacto sin perder interpretabilidad:  \n",
    "```\n",
    "def count_unique_values(arr):\n",
    "    return len(set(arr))\n",
    "```\n",
    "\n",
    "## Espacios en blanco e indentado\n",
    "\n",
    "Utilizar los espacios en blanco de manera correcta ayuda a leer mejor el código y comprender cual es la lógica de su estructura. También son útiles para detectar errores de sintaxis y lógicos en el código.  \n",
    "Algunas recomendaciones son:  \n",
    "* Organizar el código siendo consistente con la indentación adoptada. Un estándar es utilizar cuatro espacios para indentar una línea.\n",
    "* Separar secciones de código con líneas en blanco, sin espacios en blanco (sin ' ').\n",
    "* Limitar la cantidad de caractéres a 79 es un estándar de la guía de estilo PEP 8.  \n",
    "\n",
    "El siguiente es un ejemplo en donde la indentación se podría mejorar:"
   ]
  },
  {
   "cell_type": "code",
   "execution_count": null,
   "metadata": {
    "application/vnd.databricks.v1+cell": {
     "cellMetadata": {},
     "inputWidgets": {},
     "nuid": "67919cab-3bb0-48d3-b800-a31b536ce7b0",
     "showTitle": false,
     "title": ""
    }
   },
   "outputs": [],
   "source": [
    "def ejemplo_funcion(param1, param2, \n",
    "    param3, param4):\n",
    "    if param1 > param2: print(\"param1 es mayor que param2\")\n",
    "    else: print(\"param2 es mayor que param1\")\n",
    "    return param3 + param4"
   ]
  },
  {
   "cell_type": "markdown",
   "metadata": {
    "application/vnd.databricks.v1+cell": {
     "cellMetadata": {},
     "inputWidgets": {},
     "nuid": "60606b0e-9994-4f0b-914f-a40e9d6842c8",
     "showTitle": false,
     "title": ""
    }
   },
   "source": [
    "Mientras que este es otro ejemplo en donde la indentación fue utilizada de manera más correcta:"
   ]
  },
  {
   "cell_type": "code",
   "execution_count": null,
   "metadata": {
    "application/vnd.databricks.v1+cell": {
     "cellMetadata": {},
     "inputWidgets": {},
     "nuid": "d29e86d2-5a21-4d72-b28f-04067ee67916",
     "showTitle": false,
     "title": ""
    }
   },
   "outputs": [],
   "source": [
    "def ejemplo_funcion(param1, param2,\n",
    "                    param3, param4):\n",
    "\n",
    "    if param1 > param2:\n",
    "        print(\"param1 es mayor que param2\")\n",
    "    else:\n",
    "        print(\"param2 es mayor que param1\")\n",
    "\n",
    "    return param3 + param4"
   ]
  },
  {
   "cell_type": "markdown",
   "metadata": {
    "application/vnd.databricks.v1+cell": {
     "cellMetadata": {},
     "inputWidgets": {},
     "nuid": "7e92a721-dc3f-4ed4-8f48-102e4cfa4639",
     "showTitle": false,
     "title": ""
    }
   },
   "source": [
    "## Escribiendo código modular\n",
    "\n",
    "**DRY: don't repeat yourself**  \n",
    "\n",
    "\n",
    "* **Modularizar el código** nos permite reutilizar partes del desarrollo. Es una buena práctica consolidar las partes del código que repetimos, en una función o en loops.  \n",
    "* **Separar el código que contiene la lógica de nuestro programa en funciones** también facilita la lectura del mismo, ya que nos da la posibilidad de utilizar nombres descriptivos en las funciones.  \n",
    "Es importante tener en cuenta que existe una relación de compromiso entre la cantidad de módulos y la interpretabilidad del código. Si modularizamos el código en exceso, también será contraproducente.  \n",
    "* Las **funciones deben realizar una única tarea**. Si cada función realizar más de una tarea, se vuelve más dificil reutilizar el código.  \n",
    "* Los **nombres de los argumentos en las funciones** pueden ser más arbitrarios o generales para permitir la reutilización con mayor facilidad.  \n",
    "En lo posible **limitar el número de argumentos** a 3 o 4 en las funciones."
   ]
  },
  {
   "attachments": {},
   "cell_type": "markdown",
   "metadata": {
    "application/vnd.databricks.v1+cell": {
     "cellMetadata": {},
     "inputWidgets": {},
     "nuid": "9b88aa29-e280-4644-a595-709b48e5a1a9",
     "showTitle": false,
     "title": ""
    }
   },
   "source": [
    "## Refactorizando el código\n",
    "\n",
    "A medida que nos encontramos realizando el desarrollo de nuestra solución, es común que no prestemos el 100% de atención a la prolijidad del código si no que queremos lograr el objetivo de responder a la pregunta del negocio/proyecto.  \n",
    "Es esperable que en una primera instancia tal vez existan algunas variables que no estan nombradas de forma descriptiva o que algunas partes del código sean un poco repetitivas.  \n",
    "Esto se debe a que mientras estamos realizando el desarrollo, posiblemente no contemos con todo el conocimiento sobre nuestro código como para saber qué parte del código se podría reutilizar, qué partes nos conviene encapsular en una función, etc. Por esto, luego de lograr una primera solución que cumpla nuestras expectativas, es importante volver sobre el desarrollo realizado y revisar el cumplimiento de las buenas prácticas que se definieron previamente.  \n",
    "Esta etapa de revisión se conoce como **refactorización** y hace referencia a **reestructurar el código para mejorar la estructura interna del desarrollo sin cambiar la funcionalidad externa**.\n",
    "\n",
    "Ventajas de realizar refactorización:\n",
    "* Reducción de la carga de trabajo para desarrollar nuevas features basadas en el código existente.\n",
    "* Facilita los trabajos de mantenimiento sobre el código.\n",
    "* Nos ayuda a mejorar nuestras habilidades como desarrolladores.\n",
    "\n",
    "#### Ejemplo: código más legible"
   ]
  },
  {
   "cell_type": "code",
   "execution_count": null,
   "metadata": {
    "application/vnd.databricks.v1+cell": {
     "cellMetadata": {
      "byteLimit": 2048000,
      "rowLimit": 10000
     },
     "inputWidgets": {},
     "nuid": "ead8207a-f372-46ac-98bd-d2d5d8a6d8f2",
     "showTitle": false,
     "title": ""
    }
   },
   "outputs": [
    {
     "name": "stdout",
     "output_type": "stream",
     "text": [
      "['cliente_ID', 'region_retiro', 'compra_credito', 'compra_efectivo']\n",
      "['cliente_ID', 'region_retiro', 'compra_credito', 'compra_efectivo']\n"
     ]
    }
   ],
   "source": [
    "# Supongamos que tenemos este listado de nombres\n",
    "features_list = [\n",
    "        'cliente ID',\n",
    "        'region retiro',\n",
    "        'compra credito',\n",
    "        'compra efectivo',\n",
    "        ]\n",
    "\n",
    "# Los voy a renombrar cambiando el espacio por '_'\n",
    "new_labels_list = features_list.copy()\n",
    "\n",
    "# OPCIÓN #1: mal\n",
    "new_labels_list[0] = features_list[0].replace(' ', '_')\n",
    "new_labels_list[1] = features_list[1].replace(' ', '_')\n",
    "new_labels_list[2] = features_list[2].replace(' ', '_')\n",
    "new_labels_list[3] = features_list[3].replace(' ', '_')\n",
    "\n",
    "print(new_labels_list)\n",
    "\n",
    "# OPCIÓN #2: bien\n",
    "new_labels_list = [name.replace(' ', '_') for name in features_list]\n",
    "\n",
    "print(new_labels_list)"
   ]
  },
  {
   "cell_type": "markdown",
   "metadata": {
    "application/vnd.databricks.v1+cell": {
     "cellMetadata": {},
     "inputWidgets": {},
     "nuid": "760a06cb-e9ed-43a6-a810-181b128dc26e",
     "showTitle": false,
     "title": ""
    }
   },
   "source": [
    "#### Ejemplo: reutilización de código usando funciones"
   ]
  },
  {
   "cell_type": "code",
   "execution_count": null,
   "metadata": {
    "application/vnd.databricks.v1+cell": {
     "cellMetadata": {
      "byteLimit": 2048000,
      "rowLimit": 10000
     },
     "inputWidgets": {},
     "nuid": "ebee6306-9124-4428-ac0a-f23d64d696a7",
     "showTitle": false,
     "title": ""
    }
   },
   "outputs": [
    {
     "name": "stdout",
     "output_type": "stream",
     "text": [
      "Unexpected exception formatting exception. Falling back to standard exception\n",
      "Traceback (most recent call last):\n",
      "  File \"/databricks/python/lib/python3.9/site-packages/pandas/core/nanops.py\", line 752, in nanmedian\n",
      "    values = values.astype(\"f8\")\n",
      "ValueError: could not convert string to float: 'high'\n",
      "\n",
      "The above exception was the direct cause of the following exception:\n",
      "\n",
      "Traceback (most recent call last):\n",
      "  File \"/databricks/python/lib/python3.9/site-packages/IPython/core/interactiveshell.py\", line 3378, in run_code\n",
      "    exec(code_obj, self.user_global_ns, self.user_ns)\n",
      "  File \"<command-2354884550166580>\", line 25, in <module>\n",
      "    median_alcohol = df_dataset.alcohol.median()\n",
      "  File \"/databricks/python/lib/python3.9/site-packages/pandas/core/generic.py\", line 11187, in median\n",
      "    return NDFrame.median(self, axis, skipna, level, numeric_only, **kwargs)\n",
      "  File \"/databricks/python/lib/python3.9/site-packages/pandas/core/generic.py\", line 10699, in median\n",
      "    return self._stat_function(\n",
      "  File \"/databricks/python/lib/python3.9/site-packages/pandas/core/generic.py\", line 10639, in _stat_function\n",
      "    return self._reduce(\n",
      "  File \"/databricks/python/lib/python3.9/site-packages/pandas/core/series.py\", line 4471, in _reduce\n",
      "    return op(delegate, skipna=skipna, **kwds)\n",
      "  File \"/databricks/python/lib/python3.9/site-packages/pandas/core/nanops.py\", line 155, in f\n",
      "    result = alt(values, axis=axis, skipna=skipna, **kwds)\n",
      "  File \"/databricks/python/lib/python3.9/site-packages/pandas/core/nanops.py\", line 755, in nanmedian\n",
      "    raise TypeError(str(err)) from err\n",
      "TypeError: could not convert string to float: 'high'\n",
      "\n",
      "During handling of the above exception, another exception occurred:\n",
      "\n",
      "Traceback (most recent call last):\n",
      "  File \"/databricks/python/lib/python3.9/site-packages/IPython/core/interactiveshell.py\", line 1997, in showtraceback\n",
      "    stb = self.InteractiveTB.structured_traceback(\n",
      "  File \"/databricks/python/lib/python3.9/site-packages/IPython/core/ultratb.py\", line 1112, in structured_traceback\n",
      "    return FormattedTB.structured_traceback(\n",
      "  File \"/databricks/python/lib/python3.9/site-packages/IPython/core/ultratb.py\", line 1006, in structured_traceback\n",
      "    return VerboseTB.structured_traceback(\n",
      "  File \"/databricks/python/lib/python3.9/site-packages/IPython/core/ultratb.py\", line 859, in structured_traceback\n",
      "    formatted_exception = self.format_exception_as_a_whole(etype, evalue, etb, number_of_lines_of_context,\n",
      "  File \"/databricks/python/lib/python3.9/site-packages/IPython/core/ultratb.py\", line 812, in format_exception_as_a_whole\n",
      "    frames.append(self.format_record(r))\n",
      "  File \"/databricks/python/lib/python3.9/site-packages/IPython/core/ultratb.py\", line 730, in format_record\n",
      "    result += ''.join(_format_traceback_lines(frame_info.lines, Colors, self.has_colors, lvals))\n",
      "  File \"/databricks/python/lib/python3.9/site-packages/stack_data/utils.py\", line 145, in cached_property_wrapper\n",
      "    value = obj.__dict__[self.func.__name__] = self.func(obj)\n",
      "  File \"/databricks/python/lib/python3.9/site-packages/stack_data/core.py\", line 698, in lines\n",
      "    pieces = self.included_pieces\n",
      "  File \"/databricks/python/lib/python3.9/site-packages/stack_data/utils.py\", line 145, in cached_property_wrapper\n",
      "    value = obj.__dict__[self.func.__name__] = self.func(obj)\n",
      "  File \"/databricks/python/lib/python3.9/site-packages/stack_data/core.py\", line 649, in included_pieces\n",
      "    pos = scope_pieces.index(self.executing_piece)\n",
      "  File \"/databricks/python/lib/python3.9/site-packages/stack_data/utils.py\", line 145, in cached_property_wrapper\n",
      "    value = obj.__dict__[self.func.__name__] = self.func(obj)\n",
      "  File \"/databricks/python/lib/python3.9/site-packages/stack_data/core.py\", line 628, in executing_piece\n",
      "    return only(\n",
      "  File \"/databricks/python/lib/python3.9/site-packages/executing/executing.py\", line 164, in only\n",
      "    raise NotOneValueFound('Expected one value, found 0')\n",
      "executing.executing.NotOneValueFound: Expected one value, found 0\n"
     ]
    },
    {
     "data": {
      "text/plain": []
     },
     "metadata": {
      "application/vnd.databricks.v1+output": {
       "arguments": {},
       "data": "",
       "errorSummary": "<span class='ansi-red-fg'>TypeError</span>: could not convert string to float: 'high'",
       "errorTraceType": "ansi",
       "metadata": {},
       "type": "ipynbError"
      }
     },
     "output_type": "display_data"
    }
   ],
   "source": [
    "import pandas as pd\n",
    "from sklearn.datasets import load_wine\n",
    "data = load_wine()\n",
    "df_dataset = pd.DataFrame(\n",
    "data = data.data,\n",
    "columns = data.feature_names)\n",
    "\n",
    "# Si hay partes del código que realizan tareas repetitivas\n",
    "# como estas:\n",
    "\n",
    "median_alcohol = df_dataset.alcohol.median()\n",
    "for i, alcohol in enumerate(df_dataset.alcohol):\n",
    "    if alcohol >= median_alcohol:\n",
    "        df_dataset.loc[i, 'alcohol'] = 'high'\n",
    "    else:\n",
    "        df_dataset.loc[i, 'alcohol'] = 'low'\n",
    "\n",
    "median_acid = df_dataset.malic_acid.median()\n",
    "for i, malic_acid in enumerate(df_dataset.malic_acid):\n",
    "    if malic_acid >= median_acid:\n",
    "        df_dataset.loc[i, 'malic_acid'] = 'high'\n",
    "    else:\n",
    "        df_dataset.loc[i, 'malic_acid'] = 'low'\n",
    "\n",
    "# Se podría generar una función como la siguiente:\n",
    "\n",
    "def categorize_column_by_median(data_set, column_name):\n",
    "    median_value = data_set[column_name].median()\n",
    "\n",
    "    for i, value in enumerate(data_set[column_name]):\n",
    "        if value >= median_value:\n",
    "            data_set.loc[i, column_name] = 'high' # valor alto\n",
    "        else:\n",
    "            data_set.loc[i, column_name] = 'low'\n"
   ]
  },
  {
   "cell_type": "code",
   "execution_count": null,
   "metadata": {
    "application/vnd.databricks.v1+cell": {
     "cellMetadata": {},
     "inputWidgets": {},
     "nuid": "461643a0-75ca-4d6d-93b2-f04932275ea0",
     "showTitle": false,
     "title": ""
    }
   },
   "outputs": [],
   "source": [
    "categorize_column_by_median(df_dataset, 'ash')"
   ]
  },
  {
   "cell_type": "code",
   "execution_count": null,
   "metadata": {
    "application/vnd.databricks.v1+cell": {
     "cellMetadata": {
      "byteLimit": 2048000,
      "rowLimit": 10000
     },
     "inputWidgets": {},
     "nuid": "6f369101-641a-4917-b65c-865df1eba735",
     "showTitle": false,
     "title": ""
    }
   },
   "outputs": [
    {
     "data": {
      "text/html": [
       "<div>\n",
       "<style scoped>\n",
       "    .dataframe tbody tr th:only-of-type {\n",
       "        vertical-align: middle;\n",
       "    }\n",
       "\n",
       "    .dataframe tbody tr th {\n",
       "        vertical-align: top;\n",
       "    }\n",
       "\n",
       "    .dataframe thead th {\n",
       "        text-align: right;\n",
       "    }\n",
       "</style>\n",
       "<table border=\"1\" class=\"dataframe\">\n",
       "  <thead>\n",
       "    <tr style=\"text-align: right;\">\n",
       "      <th></th>\n",
       "      <th>alcohol</th>\n",
       "      <th>malic_acid</th>\n",
       "      <th>ash</th>\n",
       "      <th>alcalinity_of_ash</th>\n",
       "      <th>magnesium</th>\n",
       "      <th>total_phenols</th>\n",
       "      <th>flavanoids</th>\n",
       "      <th>nonflavanoid_phenols</th>\n",
       "      <th>proanthocyanins</th>\n",
       "      <th>color_intensity</th>\n",
       "      <th>hue</th>\n",
       "      <th>od280/od315_of_diluted_wines</th>\n",
       "      <th>proline</th>\n",
       "    </tr>\n",
       "  </thead>\n",
       "  <tbody>\n",
       "    <tr>\n",
       "      <th>158</th>\n",
       "      <td>high</td>\n",
       "      <td>low</td>\n",
       "      <td>high</td>\n",
       "      <td>25.0</td>\n",
       "      <td>98.0</td>\n",
       "      <td>2.80</td>\n",
       "      <td>1.31</td>\n",
       "      <td>0.53</td>\n",
       "      <td>2.70</td>\n",
       "      <td>13.000000</td>\n",
       "      <td>0.57</td>\n",
       "      <td>1.96</td>\n",
       "      <td>660.0</td>\n",
       "    </tr>\n",
       "    <tr>\n",
       "      <th>159</th>\n",
       "      <td>high</td>\n",
       "      <td>low</td>\n",
       "      <td>high</td>\n",
       "      <td>22.5</td>\n",
       "      <td>89.0</td>\n",
       "      <td>2.60</td>\n",
       "      <td>1.10</td>\n",
       "      <td>0.52</td>\n",
       "      <td>2.29</td>\n",
       "      <td>11.750000</td>\n",
       "      <td>0.57</td>\n",
       "      <td>1.78</td>\n",
       "      <td>620.0</td>\n",
       "    </tr>\n",
       "    <tr>\n",
       "      <th>160</th>\n",
       "      <td>low</td>\n",
       "      <td>high</td>\n",
       "      <td>high</td>\n",
       "      <td>21.0</td>\n",
       "      <td>88.0</td>\n",
       "      <td>2.30</td>\n",
       "      <td>0.92</td>\n",
       "      <td>0.50</td>\n",
       "      <td>1.04</td>\n",
       "      <td>7.650000</td>\n",
       "      <td>0.56</td>\n",
       "      <td>1.58</td>\n",
       "      <td>520.0</td>\n",
       "    </tr>\n",
       "    <tr>\n",
       "      <th>161</th>\n",
       "      <td>high</td>\n",
       "      <td>high</td>\n",
       "      <td>high</td>\n",
       "      <td>20.0</td>\n",
       "      <td>107.0</td>\n",
       "      <td>1.83</td>\n",
       "      <td>0.56</td>\n",
       "      <td>0.50</td>\n",
       "      <td>0.80</td>\n",
       "      <td>5.880000</td>\n",
       "      <td>0.96</td>\n",
       "      <td>1.82</td>\n",
       "      <td>680.0</td>\n",
       "    </tr>\n",
       "    <tr>\n",
       "      <th>162</th>\n",
       "      <td>low</td>\n",
       "      <td>high</td>\n",
       "      <td>high</td>\n",
       "      <td>22.0</td>\n",
       "      <td>106.0</td>\n",
       "      <td>1.65</td>\n",
       "      <td>0.60</td>\n",
       "      <td>0.60</td>\n",
       "      <td>0.96</td>\n",
       "      <td>5.580000</td>\n",
       "      <td>0.87</td>\n",
       "      <td>2.11</td>\n",
       "      <td>570.0</td>\n",
       "    </tr>\n",
       "    <tr>\n",
       "      <th>163</th>\n",
       "      <td>low</td>\n",
       "      <td>high</td>\n",
       "      <td>low</td>\n",
       "      <td>18.5</td>\n",
       "      <td>106.0</td>\n",
       "      <td>1.39</td>\n",
       "      <td>0.70</td>\n",
       "      <td>0.40</td>\n",
       "      <td>0.94</td>\n",
       "      <td>5.280000</td>\n",
       "      <td>0.68</td>\n",
       "      <td>1.75</td>\n",
       "      <td>675.0</td>\n",
       "    </tr>\n",
       "    <tr>\n",
       "      <th>164</th>\n",
       "      <td>high</td>\n",
       "      <td>high</td>\n",
       "      <td>low</td>\n",
       "      <td>22.0</td>\n",
       "      <td>90.0</td>\n",
       "      <td>1.35</td>\n",
       "      <td>0.68</td>\n",
       "      <td>0.41</td>\n",
       "      <td>1.03</td>\n",
       "      <td>9.580000</td>\n",
       "      <td>0.70</td>\n",
       "      <td>1.68</td>\n",
       "      <td>615.0</td>\n",
       "    </tr>\n",
       "    <tr>\n",
       "      <th>165</th>\n",
       "      <td>high</td>\n",
       "      <td>high</td>\n",
       "      <td>low</td>\n",
       "      <td>22.5</td>\n",
       "      <td>88.0</td>\n",
       "      <td>1.28</td>\n",
       "      <td>0.47</td>\n",
       "      <td>0.52</td>\n",
       "      <td>1.15</td>\n",
       "      <td>6.620000</td>\n",
       "      <td>0.78</td>\n",
       "      <td>1.75</td>\n",
       "      <td>520.0</td>\n",
       "    </tr>\n",
       "    <tr>\n",
       "      <th>166</th>\n",
       "      <td>high</td>\n",
       "      <td>high</td>\n",
       "      <td>high</td>\n",
       "      <td>23.0</td>\n",
       "      <td>111.0</td>\n",
       "      <td>1.70</td>\n",
       "      <td>0.92</td>\n",
       "      <td>0.43</td>\n",
       "      <td>1.46</td>\n",
       "      <td>10.680000</td>\n",
       "      <td>0.85</td>\n",
       "      <td>1.56</td>\n",
       "      <td>695.0</td>\n",
       "    </tr>\n",
       "    <tr>\n",
       "      <th>167</th>\n",
       "      <td>low</td>\n",
       "      <td>high</td>\n",
       "      <td>low</td>\n",
       "      <td>19.5</td>\n",
       "      <td>88.0</td>\n",
       "      <td>1.48</td>\n",
       "      <td>0.66</td>\n",
       "      <td>0.40</td>\n",
       "      <td>0.97</td>\n",
       "      <td>10.260000</td>\n",
       "      <td>0.72</td>\n",
       "      <td>1.75</td>\n",
       "      <td>685.0</td>\n",
       "    </tr>\n",
       "    <tr>\n",
       "      <th>168</th>\n",
       "      <td>high</td>\n",
       "      <td>high</td>\n",
       "      <td>high</td>\n",
       "      <td>24.5</td>\n",
       "      <td>105.0</td>\n",
       "      <td>1.55</td>\n",
       "      <td>0.84</td>\n",
       "      <td>0.39</td>\n",
       "      <td>1.54</td>\n",
       "      <td>8.660000</td>\n",
       "      <td>0.74</td>\n",
       "      <td>1.80</td>\n",
       "      <td>750.0</td>\n",
       "    </tr>\n",
       "    <tr>\n",
       "      <th>169</th>\n",
       "      <td>high</td>\n",
       "      <td>high</td>\n",
       "      <td>high</td>\n",
       "      <td>25.0</td>\n",
       "      <td>112.0</td>\n",
       "      <td>1.98</td>\n",
       "      <td>0.96</td>\n",
       "      <td>0.27</td>\n",
       "      <td>1.11</td>\n",
       "      <td>8.500000</td>\n",
       "      <td>0.67</td>\n",
       "      <td>1.92</td>\n",
       "      <td>630.0</td>\n",
       "    </tr>\n",
       "    <tr>\n",
       "      <th>170</th>\n",
       "      <td>low</td>\n",
       "      <td>high</td>\n",
       "      <td>low</td>\n",
       "      <td>19.0</td>\n",
       "      <td>96.0</td>\n",
       "      <td>1.25</td>\n",
       "      <td>0.49</td>\n",
       "      <td>0.40</td>\n",
       "      <td>0.73</td>\n",
       "      <td>5.500000</td>\n",
       "      <td>0.66</td>\n",
       "      <td>1.83</td>\n",
       "      <td>510.0</td>\n",
       "    </tr>\n",
       "    <tr>\n",
       "      <th>171</th>\n",
       "      <td>low</td>\n",
       "      <td>high</td>\n",
       "      <td>low</td>\n",
       "      <td>19.5</td>\n",
       "      <td>86.0</td>\n",
       "      <td>1.39</td>\n",
       "      <td>0.51</td>\n",
       "      <td>0.48</td>\n",
       "      <td>0.64</td>\n",
       "      <td>9.899999</td>\n",
       "      <td>0.57</td>\n",
       "      <td>1.63</td>\n",
       "      <td>470.0</td>\n",
       "    </tr>\n",
       "    <tr>\n",
       "      <th>172</th>\n",
       "      <td>high</td>\n",
       "      <td>high</td>\n",
       "      <td>high</td>\n",
       "      <td>20.0</td>\n",
       "      <td>91.0</td>\n",
       "      <td>1.68</td>\n",
       "      <td>0.70</td>\n",
       "      <td>0.44</td>\n",
       "      <td>1.24</td>\n",
       "      <td>9.700000</td>\n",
       "      <td>0.62</td>\n",
       "      <td>1.71</td>\n",
       "      <td>660.0</td>\n",
       "    </tr>\n",
       "    <tr>\n",
       "      <th>173</th>\n",
       "      <td>high</td>\n",
       "      <td>high</td>\n",
       "      <td>high</td>\n",
       "      <td>20.5</td>\n",
       "      <td>95.0</td>\n",
       "      <td>1.68</td>\n",
       "      <td>0.61</td>\n",
       "      <td>0.52</td>\n",
       "      <td>1.06</td>\n",
       "      <td>7.700000</td>\n",
       "      <td>0.64</td>\n",
       "      <td>1.74</td>\n",
       "      <td>740.0</td>\n",
       "    </tr>\n",
       "    <tr>\n",
       "      <th>174</th>\n",
       "      <td>high</td>\n",
       "      <td>high</td>\n",
       "      <td>high</td>\n",
       "      <td>23.0</td>\n",
       "      <td>102.0</td>\n",
       "      <td>1.80</td>\n",
       "      <td>0.75</td>\n",
       "      <td>0.43</td>\n",
       "      <td>1.41</td>\n",
       "      <td>7.300000</td>\n",
       "      <td>0.70</td>\n",
       "      <td>1.56</td>\n",
       "      <td>750.0</td>\n",
       "    </tr>\n",
       "    <tr>\n",
       "      <th>175</th>\n",
       "      <td>high</td>\n",
       "      <td>high</td>\n",
       "      <td>low</td>\n",
       "      <td>20.0</td>\n",
       "      <td>120.0</td>\n",
       "      <td>1.59</td>\n",
       "      <td>0.69</td>\n",
       "      <td>0.43</td>\n",
       "      <td>1.35</td>\n",
       "      <td>10.200000</td>\n",
       "      <td>0.59</td>\n",
       "      <td>1.56</td>\n",
       "      <td>835.0</td>\n",
       "    </tr>\n",
       "    <tr>\n",
       "      <th>176</th>\n",
       "      <td>high</td>\n",
       "      <td>high</td>\n",
       "      <td>high</td>\n",
       "      <td>20.0</td>\n",
       "      <td>120.0</td>\n",
       "      <td>1.65</td>\n",
       "      <td>0.68</td>\n",
       "      <td>0.53</td>\n",
       "      <td>1.46</td>\n",
       "      <td>9.300000</td>\n",
       "      <td>0.60</td>\n",
       "      <td>1.62</td>\n",
       "      <td>840.0</td>\n",
       "    </tr>\n",
       "    <tr>\n",
       "      <th>177</th>\n",
       "      <td>high</td>\n",
       "      <td>high</td>\n",
       "      <td>high</td>\n",
       "      <td>24.5</td>\n",
       "      <td>96.0</td>\n",
       "      <td>2.05</td>\n",
       "      <td>0.76</td>\n",
       "      <td>0.56</td>\n",
       "      <td>1.35</td>\n",
       "      <td>9.200000</td>\n",
       "      <td>0.61</td>\n",
       "      <td>1.60</td>\n",
       "      <td>560.0</td>\n",
       "    </tr>\n",
       "  </tbody>\n",
       "</table>\n",
       "</div>"
      ]
     },
     "metadata": {
      "application/vnd.databricks.v1+output": {
       "addedWidgets": {},
       "arguments": {},
       "data": "<div>\n<style scoped>\n    .dataframe tbody tr th:only-of-type {\n        vertical-align: middle;\n    }\n\n    .dataframe tbody tr th {\n        vertical-align: top;\n    }\n\n    .dataframe thead th {\n        text-align: right;\n    }\n</style>\n<table border=\"1\" class=\"dataframe\">\n  <thead>\n    <tr style=\"text-align: right;\">\n      <th></th>\n      <th>alcohol</th>\n      <th>malic_acid</th>\n      <th>ash</th>\n      <th>alcalinity_of_ash</th>\n      <th>magnesium</th>\n      <th>total_phenols</th>\n      <th>flavanoids</th>\n      <th>nonflavanoid_phenols</th>\n      <th>proanthocyanins</th>\n      <th>color_intensity</th>\n      <th>hue</th>\n      <th>od280/od315_of_diluted_wines</th>\n      <th>proline</th>\n    </tr>\n  </thead>\n  <tbody>\n    <tr>\n      <th>158</th>\n      <td>high</td>\n      <td>low</td>\n      <td>high</td>\n      <td>25.0</td>\n      <td>98.0</td>\n      <td>2.80</td>\n      <td>1.31</td>\n      <td>0.53</td>\n      <td>2.70</td>\n      <td>13.000000</td>\n      <td>0.57</td>\n      <td>1.96</td>\n      <td>660.0</td>\n    </tr>\n    <tr>\n      <th>159</th>\n      <td>high</td>\n      <td>low</td>\n      <td>high</td>\n      <td>22.5</td>\n      <td>89.0</td>\n      <td>2.60</td>\n      <td>1.10</td>\n      <td>0.52</td>\n      <td>2.29</td>\n      <td>11.750000</td>\n      <td>0.57</td>\n      <td>1.78</td>\n      <td>620.0</td>\n    </tr>\n    <tr>\n      <th>160</th>\n      <td>low</td>\n      <td>high</td>\n      <td>high</td>\n      <td>21.0</td>\n      <td>88.0</td>\n      <td>2.30</td>\n      <td>0.92</td>\n      <td>0.50</td>\n      <td>1.04</td>\n      <td>7.650000</td>\n      <td>0.56</td>\n      <td>1.58</td>\n      <td>520.0</td>\n    </tr>\n    <tr>\n      <th>161</th>\n      <td>high</td>\n      <td>high</td>\n      <td>high</td>\n      <td>20.0</td>\n      <td>107.0</td>\n      <td>1.83</td>\n      <td>0.56</td>\n      <td>0.50</td>\n      <td>0.80</td>\n      <td>5.880000</td>\n      <td>0.96</td>\n      <td>1.82</td>\n      <td>680.0</td>\n    </tr>\n    <tr>\n      <th>162</th>\n      <td>low</td>\n      <td>high</td>\n      <td>high</td>\n      <td>22.0</td>\n      <td>106.0</td>\n      <td>1.65</td>\n      <td>0.60</td>\n      <td>0.60</td>\n      <td>0.96</td>\n      <td>5.580000</td>\n      <td>0.87</td>\n      <td>2.11</td>\n      <td>570.0</td>\n    </tr>\n    <tr>\n      <th>163</th>\n      <td>low</td>\n      <td>high</td>\n      <td>low</td>\n      <td>18.5</td>\n      <td>106.0</td>\n      <td>1.39</td>\n      <td>0.70</td>\n      <td>0.40</td>\n      <td>0.94</td>\n      <td>5.280000</td>\n      <td>0.68</td>\n      <td>1.75</td>\n      <td>675.0</td>\n    </tr>\n    <tr>\n      <th>164</th>\n      <td>high</td>\n      <td>high</td>\n      <td>low</td>\n      <td>22.0</td>\n      <td>90.0</td>\n      <td>1.35</td>\n      <td>0.68</td>\n      <td>0.41</td>\n      <td>1.03</td>\n      <td>9.580000</td>\n      <td>0.70</td>\n      <td>1.68</td>\n      <td>615.0</td>\n    </tr>\n    <tr>\n      <th>165</th>\n      <td>high</td>\n      <td>high</td>\n      <td>low</td>\n      <td>22.5</td>\n      <td>88.0</td>\n      <td>1.28</td>\n      <td>0.47</td>\n      <td>0.52</td>\n      <td>1.15</td>\n      <td>6.620000</td>\n      <td>0.78</td>\n      <td>1.75</td>\n      <td>520.0</td>\n    </tr>\n    <tr>\n      <th>166</th>\n      <td>high</td>\n      <td>high</td>\n      <td>high</td>\n      <td>23.0</td>\n      <td>111.0</td>\n      <td>1.70</td>\n      <td>0.92</td>\n      <td>0.43</td>\n      <td>1.46</td>\n      <td>10.680000</td>\n      <td>0.85</td>\n      <td>1.56</td>\n      <td>695.0</td>\n    </tr>\n    <tr>\n      <th>167</th>\n      <td>low</td>\n      <td>high</td>\n      <td>low</td>\n      <td>19.5</td>\n      <td>88.0</td>\n      <td>1.48</td>\n      <td>0.66</td>\n      <td>0.40</td>\n      <td>0.97</td>\n      <td>10.260000</td>\n      <td>0.72</td>\n      <td>1.75</td>\n      <td>685.0</td>\n    </tr>\n    <tr>\n      <th>168</th>\n      <td>high</td>\n      <td>high</td>\n      <td>high</td>\n      <td>24.5</td>\n      <td>105.0</td>\n      <td>1.55</td>\n      <td>0.84</td>\n      <td>0.39</td>\n      <td>1.54</td>\n      <td>8.660000</td>\n      <td>0.74</td>\n      <td>1.80</td>\n      <td>750.0</td>\n    </tr>\n    <tr>\n      <th>169</th>\n      <td>high</td>\n      <td>high</td>\n      <td>high</td>\n      <td>25.0</td>\n      <td>112.0</td>\n      <td>1.98</td>\n      <td>0.96</td>\n      <td>0.27</td>\n      <td>1.11</td>\n      <td>8.500000</td>\n      <td>0.67</td>\n      <td>1.92</td>\n      <td>630.0</td>\n    </tr>\n    <tr>\n      <th>170</th>\n      <td>low</td>\n      <td>high</td>\n      <td>low</td>\n      <td>19.0</td>\n      <td>96.0</td>\n      <td>1.25</td>\n      <td>0.49</td>\n      <td>0.40</td>\n      <td>0.73</td>\n      <td>5.500000</td>\n      <td>0.66</td>\n      <td>1.83</td>\n      <td>510.0</td>\n    </tr>\n    <tr>\n      <th>171</th>\n      <td>low</td>\n      <td>high</td>\n      <td>low</td>\n      <td>19.5</td>\n      <td>86.0</td>\n      <td>1.39</td>\n      <td>0.51</td>\n      <td>0.48</td>\n      <td>0.64</td>\n      <td>9.899999</td>\n      <td>0.57</td>\n      <td>1.63</td>\n      <td>470.0</td>\n    </tr>\n    <tr>\n      <th>172</th>\n      <td>high</td>\n      <td>high</td>\n      <td>high</td>\n      <td>20.0</td>\n      <td>91.0</td>\n      <td>1.68</td>\n      <td>0.70</td>\n      <td>0.44</td>\n      <td>1.24</td>\n      <td>9.700000</td>\n      <td>0.62</td>\n      <td>1.71</td>\n      <td>660.0</td>\n    </tr>\n    <tr>\n      <th>173</th>\n      <td>high</td>\n      <td>high</td>\n      <td>high</td>\n      <td>20.5</td>\n      <td>95.0</td>\n      <td>1.68</td>\n      <td>0.61</td>\n      <td>0.52</td>\n      <td>1.06</td>\n      <td>7.700000</td>\n      <td>0.64</td>\n      <td>1.74</td>\n      <td>740.0</td>\n    </tr>\n    <tr>\n      <th>174</th>\n      <td>high</td>\n      <td>high</td>\n      <td>high</td>\n      <td>23.0</td>\n      <td>102.0</td>\n      <td>1.80</td>\n      <td>0.75</td>\n      <td>0.43</td>\n      <td>1.41</td>\n      <td>7.300000</td>\n      <td>0.70</td>\n      <td>1.56</td>\n      <td>750.0</td>\n    </tr>\n    <tr>\n      <th>175</th>\n      <td>high</td>\n      <td>high</td>\n      <td>low</td>\n      <td>20.0</td>\n      <td>120.0</td>\n      <td>1.59</td>\n      <td>0.69</td>\n      <td>0.43</td>\n      <td>1.35</td>\n      <td>10.200000</td>\n      <td>0.59</td>\n      <td>1.56</td>\n      <td>835.0</td>\n    </tr>\n    <tr>\n      <th>176</th>\n      <td>high</td>\n      <td>high</td>\n      <td>high</td>\n      <td>20.0</td>\n      <td>120.0</td>\n      <td>1.65</td>\n      <td>0.68</td>\n      <td>0.53</td>\n      <td>1.46</td>\n      <td>9.300000</td>\n      <td>0.60</td>\n      <td>1.62</td>\n      <td>840.0</td>\n    </tr>\n    <tr>\n      <th>177</th>\n      <td>high</td>\n      <td>high</td>\n      <td>high</td>\n      <td>24.5</td>\n      <td>96.0</td>\n      <td>2.05</td>\n      <td>0.76</td>\n      <td>0.56</td>\n      <td>1.35</td>\n      <td>9.200000</td>\n      <td>0.61</td>\n      <td>1.60</td>\n      <td>560.0</td>\n    </tr>\n  </tbody>\n</table>\n</div>",
       "datasetInfos": [],
       "metadata": {},
       "removedWidgets": [],
       "textData": null,
       "type": "htmlSandbox"
      }
     },
     "output_type": "display_data"
    }
   ],
   "source": [
    "df_dataset.tail(20)"
   ]
  },
  {
   "attachments": {},
   "cell_type": "markdown",
   "metadata": {
    "application/vnd.databricks.v1+cell": {
     "cellMetadata": {},
     "inputWidgets": {},
     "nuid": "778fab21-e3c7-4347-93f7-370476547f41",
     "showTitle": false,
     "title": ""
    }
   },
   "source": [
    "## Documentación\n",
    "\n",
    "La documentación es texto adicional que se encuentra en el código.  \n",
    "  \n",
    "  \n",
    "* Ayuda a clarificar partes del código que son complejas\n",
    "* Nos permite leer y navegar más rapidamente por las distintas secciones del código\n",
    "* Describe formas de uso y/o propósitos de componentes de código\n",
    "\n",
    "Existen diferentes tipos de documentación para incorporar en distintos niveles del programa:\n",
    "\n",
    "* Comentarios In-line\n",
    "* [Docstrings](https://peps.python.org/pep-0257/)\n",
    "* Readme en el proyecto\n",
    "\n",
    "Si se requieren muchos comentarios para explicar el propósito del código, es posible que sea necesario una refactorización ya no es legible en si mismo.  \n",
    "Los comentarios se suelen utilizar para explicar aspectos que el código no puede. Por ejemplo, la justificación para realizar alguna tarea en un cierto modo.  \n",
    "\n",
    "El siguiente es un ejemplo de docstring para una función:"
   ]
  },
  {
   "cell_type": "code",
   "execution_count": null,
   "metadata": {
    "application/vnd.databricks.v1+cell": {
     "cellMetadata": {},
     "inputWidgets": {},
     "nuid": "38399554-c2a5-4586-a9b2-a3638e44ca3d",
     "showTitle": false,
     "title": ""
    }
   },
   "outputs": [],
   "source": [
    "def generate_calibration_curve(performance_table: pd.DataFrame,\n",
    "                               pth: str) -> None:\n",
    "    \"\"\"\n",
    "    This function takes the performance table of the model and generates its calibration curve\n",
    "    \n",
    "    :param performance_table: performance table of the model calculated by the function generate_performance_table.\n",
    "    :type performance_table: pd.DataFrame\n",
    "    \n",
    "    :param pth: path to save the calibration curve\n",
    "    :type pth: str\n",
    "    \"\"\"\n",
    "    \n",
    "    # CODIGO\n",
    "    \n",
    "    return None"
   ]
  },
  {
   "attachments": {},
   "cell_type": "markdown",
   "metadata": {},
   "source": [
    "------------------------------\n",
    "Extra: Function annotations\n",
    "\n",
    "Las anotaciones de funciones son una característica que permite agregar información adicional a los argumentos y valores de retorno de una función.  \n",
    "Hacen referencia al tipo de variable y hay que mencionar que en el caso de Python son algo opcional (pero altamente recomendado) que no va a afectar el funcionamiento del código.\n",
    "\n",
    "En el caso de los argumentos de la función se agrega `: tipo_de_variable` luego del nombre. Y para el retorno de la función se agrega `-> tipo_de_variable`.\n",
    "\n",
    "El uso de anotaciones en nuestro código le aporta facilidad a la lectura y también ayuda a encontrar errores cuando debuggeamos.\n",
    "\n",
    "------------------------------"
   ]
  },
  {
   "cell_type": "markdown",
   "metadata": {
    "application/vnd.databricks.v1+cell": {
     "cellMetadata": {},
     "inputWidgets": {},
     "nuid": "5aa2ef3b-727d-470e-86f2-fa4908d419f5",
     "showTitle": false,
     "title": ""
    }
   },
   "source": [
    "### Herramientas para formatear código\n",
    "\n",
    "Existen diversas herramientas para darle formato al código de manera automática. A continuación, veremos algunas que siguen el estándar PEP8.\n",
    "\n",
    "#### [Black](https://black.readthedocs.io/en/stable/)\n",
    "\n",
    "Dentro del entorno de Databricks podemos utilizar Black. Esta es una herramienta para dar formato a nuestro código forma rápida y simple.  \n",
    "Para ello necesitamos tener instaldas las siguientes dependencias:  \n",
    "`%pip install black==22.3.0 tokenize-rt==4.2.1`  \n",
    "\n",
    "En caso de que tengamos RT 11.2, o superior, estas dependencias ya se encuentran pre-instaladas.  \n",
    "\n",
    "Una vez que tenemos configurado el ambiente de trabajo con las dependencias necesarias, basta con pararnos sobre la celda que queremos formatear (o seleccionar varias celdas) y presionar `ctrl`+`shift`+`F` o ir al menú: Edit -> format cell(s).  \n",
    "\n",
    "_Más información en la [documentación de Microsoft](https://learn.microsoft.com/en-us/azure/databricks/notebooks/notebooks-code#format-python-cells)_.\n",
    "\n",
    "### [autopep8](https://pypi.org/project/autopep8/) & [pylint](https://pypi.org/project/pylint/)\n",
    "\n",
    "De manera local, otra alternativa podría ser utilizar pylint y autopep8 para mantener nuestro código limpio.  \n",
    "Una vez que tenemos las librerías instaladas, desde una terminal podemos ejecutar el siguiente código:\n",
    "`pylint script_name.py`  \n",
    "Lo que nos devolverá una evaluación de nuestro código con un puntaje de 0 a 10 sobre que tan alineado está nuestro código al estándar pep8.  \n",
    "También nos bridará el número de línea en donde debemos realizar una modificaicón y una breve descripción de qué es lo que debemos refactorizar.  \n",
    "\n",
    "Una alternativa es realizar todos los cambios de forma manual o también podemos utilizar la herramienta autopep8 para ayudarnos.  \n",
    "Desde una terminal podemos ejecutar el siguiente código:\n",
    "`autopep8 --in-place --aggressive --aggressive script_name.py`  \n",
    "Lo que nos refactorizará de manera automática nuestro script. Tener el cuenta que sobreescribirá el archivo existente. También habrá cambios que el formateador no será capáz de realizar como un renombramiento de variables, eso debemos cambiarlo de forma manual, pero solucionará problemas como indentaciones incorrectas, saltos de línea, líneas demasiado largas, etc."
   ]
  }
 ],
 "metadata": {
  "application/vnd.databricks.v1+notebook": {
   "dashboards": [],
   "language": "python",
   "notebookMetadata": {
    "pythonIndentUnit": 4
   },
   "notebookName": "OneVision-BestPractices",
   "notebookOrigID": 99341718290018,
   "widgets": {}
  },
  "language_info": {
   "name": "python"
  }
 },
 "nbformat": 4,
 "nbformat_minor": 0
}
