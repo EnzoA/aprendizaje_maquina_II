{
 "cells": [
  {
   "attachments": {},
   "cell_type": "markdown",
   "metadata": {},
   "source": [
    "## Aprendizaje de máquina II\n",
    "### Carrera de especialización en inteligencia artificial  \n",
    "\n",
    "#### **VERSIONADO DE MODELOS USANDO MLFLOW**\n",
    "\n",
    "Este ejemplo pertenece a la [documentación](https://github.com/mlflow/mlflow/tree/master/examples/sklearn_elasticnet_wine) de MLflow, con algunas modificaciones para trackear nuestros modelos utilizando sqlite.  \n",
    "\n",
    "Para poder reproducir los resultados vistos en clase seguir los siguientes pasos:\n",
    "\n",
    "* Si bien no es obligatorio, es **altamente** recomendable crearse un nuevo ambiente para administrar las dependencias y asegurar la correcta ejecución.  \n",
    "Si estamos utilizando conda podemos crear un nuevo entorno con el comando:\n",
    "`conda create -n mlflow python=3.8`  \n",
    "Al ejecutar ese comando se nos creará un ambiente llamado \"mlflow\" (cambiar el nombre si se lo desea) con python versión 3.8.  \n",
    "\n",
    "Podemos activar nuestro nuevo ambiente ejecutando:  \n",
    "`conda activate mlflow`  \n",
    "_(En caso de haber elegido otro nombre para el ambiente, reemplazar \"mlflow\" por el nombre que hayamos elegido)_\n",
    "\n",
    "\n",
    "Para completar la instalación del ambiente debemos instalar las siguientes dependencias:  \n",
    "\n",
    "  - scikit-learn==1.2.0\n",
    "  - mlflow\n",
    "  - pandas\n",
    "\n",
    "Para esto podemos utilizar `pip install nombre_de_la_biblioteca` desde la consola de conda.  \n",
    "\n",
    "* Luego de configurar nuestro ambiente debemos abrir la command prompt de conda y movernos hacia el directorio en donde tengamos guardado este notebook. Como recomendación, guardarlo en una carpeta exclusiva, ya que se nos irán generando algunos archivos complementarios para poder realizar el tutorial.\n",
    "\n",
    "En caso de que no hayan navegado por una consola de comandos, [acá](http://www.falconmasters.com/offtopic/como-utilizar-consola-de-windows/#:~:text=Para%20acceder%20a%20ella%20lo,en%20la%20consola%20de%20windows.) hay un breve tutorial con los comandos más útiles.\n",
    "\n",
    "\n",
    "* Una vez dentro de la carpeta donde almacenamos este notebook, debemos indicarle a mlflow que vamos a utilizar SQLite como backend para almacenar nuestros modelos registrados. Para ello, desde la command prompt de conda debemos ejecutar:  \n",
    "`mlflow server --backend-store-uri sqlite:///mydb.sqlite`  \n",
    "Luego de ejecutar ese comando veremos que en la carpeta se crearán una carpeta donde se almacenarám los artefactos de mlflow y una base de datos para el model registry.  \n",
    "También debemos ver en la consola el siguiente mensaje:\n",
    "`INFO:waitress:Serving on http://127.0.0.1:5000`\n",
    "\n",
    "* Esa dirección IP corresponde a nuestro localhost y el número 5000 al número de puerto donde podremos consultar la UI de mlflow.  \n",
    "Si copiamos y pegamos esa dirección http en algún buscador web, podremos acceder a la UI.  \n",
    "\n"
   ]
  },
  {
   "cell_type": "code",
   "execution_count": 1,
   "metadata": {},
   "outputs": [],
   "source": [
    "import os\n",
    "import warnings\n",
    "import sys\n",
    "\n",
    "import pandas as pd\n",
    "import numpy as np\n",
    "from sklearn.metrics import mean_squared_error, mean_absolute_error, r2_score\n",
    "from sklearn.model_selection import train_test_split\n",
    "from sklearn.linear_model import ElasticNet\n",
    "from urllib.parse import urlparse\n",
    "import mlflow\n",
    "import mlflow.sklearn\n",
    "\n",
    "import logging"
   ]
  },
  {
   "cell_type": "code",
   "execution_count": 2,
   "metadata": {},
   "outputs": [
    {
     "name": "stderr",
     "output_type": "stream",
     "text": [
      "2023/05/13 11:26:35 INFO mlflow.tracking.fluent: Experiment with name 'Wine_prediction_experiment' does not exist. Creating a new experiment.\n"
     ]
    },
    {
     "data": {
      "text/plain": [
       "<Experiment: artifact_location='mlflow-artifacts:/1', creation_time=1683987995786, experiment_id='1', last_update_time=1683987995786, lifecycle_stage='active', name='Wine_prediction_experiment', tags={}>"
      ]
     },
     "execution_count": 2,
     "metadata": {},
     "output_type": "execute_result"
    }
   ],
   "source": [
    "mlflow.set_tracking_uri(\"http://127.0.0.1:5000/\")\n",
    "mlflow.set_experiment(\"Wine_prediction_experiment\")"
   ]
  },
  {
   "cell_type": "code",
   "execution_count": 4,
   "metadata": {},
   "outputs": [
    {
     "name": "stdout",
     "output_type": "stream",
     "text": [
      "Elasticnet model (alpha=0.001000, l1_ratio=0.001000):\n",
      "  RMSE: 0.6624915696582605\n",
      "  MAE: 0.5090087948753361\n",
      "  R2: 0.3781373952488176\n"
     ]
    },
    {
     "ename": "NameError",
     "evalue": "name 'alpha2' is not defined",
     "output_type": "error",
     "traceback": [
      "\u001b[1;31m---------------------------------------------------------------------------\u001b[0m",
      "\u001b[1;31mNameError\u001b[0m                                 Traceback (most recent call last)",
      "\u001b[1;32m~\\AppData\\Local\\Temp\\ipykernel_29068\\3444796212.py\u001b[0m in \u001b[0;36m<cell line: 12>\u001b[1;34m()\u001b[0m\n\u001b[0;32m     50\u001b[0m         \u001b[0mprint\u001b[0m\u001b[1;33m(\u001b[0m\u001b[1;34m\"  R2: %s\"\u001b[0m \u001b[1;33m%\u001b[0m \u001b[0mr2\u001b[0m\u001b[1;33m)\u001b[0m\u001b[1;33m\u001b[0m\u001b[1;33m\u001b[0m\u001b[0m\n\u001b[0;32m     51\u001b[0m \u001b[1;33m\u001b[0m\u001b[0m\n\u001b[1;32m---> 52\u001b[1;33m         \u001b[0mmlflow\u001b[0m\u001b[1;33m.\u001b[0m\u001b[0mlog_param\u001b[0m\u001b[1;33m(\u001b[0m\u001b[1;34m\"alpha\"\u001b[0m\u001b[1;33m,\u001b[0m \u001b[0malpha2\u001b[0m\u001b[1;33m)\u001b[0m\u001b[1;33m\u001b[0m\u001b[1;33m\u001b[0m\u001b[0m\n\u001b[0m\u001b[0;32m     53\u001b[0m         \u001b[0mmlflow\u001b[0m\u001b[1;33m.\u001b[0m\u001b[0mlog_param\u001b[0m\u001b[1;33m(\u001b[0m\u001b[1;34m\"l1_ratio\"\u001b[0m\u001b[1;33m,\u001b[0m \u001b[0ml1_ratio\u001b[0m\u001b[1;33m)\u001b[0m\u001b[1;33m\u001b[0m\u001b[1;33m\u001b[0m\u001b[0m\n\u001b[0;32m     54\u001b[0m         \u001b[0mmlflow\u001b[0m\u001b[1;33m.\u001b[0m\u001b[0mlog_metric\u001b[0m\u001b[1;33m(\u001b[0m\u001b[1;34m\"rmse\"\u001b[0m\u001b[1;33m,\u001b[0m \u001b[0mrmse\u001b[0m\u001b[1;33m)\u001b[0m\u001b[1;33m\u001b[0m\u001b[1;33m\u001b[0m\u001b[0m\n",
      "\u001b[1;31mNameError\u001b[0m: name 'alpha2' is not defined"
     ]
    }
   ],
   "source": [
    "logging.basicConfig(level=logging.WARN)\n",
    "logger = logging.getLogger(__name__)\n",
    "\n",
    "\n",
    "def eval_metrics(actual, pred):\n",
    "    rmse = np.sqrt(mean_squared_error(actual, pred))\n",
    "    mae = mean_absolute_error(actual, pred)\n",
    "    r2 = r2_score(actual, pred)\n",
    "    return rmse, mae, r2\n",
    "\n",
    "\n",
    "if __name__ == \"__main__\":\n",
    "    warnings.filterwarnings(\"ignore\")\n",
    "    np.random.seed(40)\n",
    "\n",
    "    # Read the wine-quality csv file from the URL\n",
    "    csv_url = (\n",
    "        \"https://raw.githubusercontent.com/mlflow/mlflow/master/tests/datasets/winequality-red.csv\"\n",
    "    )\n",
    "    try:\n",
    "        data = pd.read_csv(csv_url, sep=\";\")\n",
    "    except Exception as e:\n",
    "        logger.exception(\n",
    "            \"Unable to download training & test CSV, check your internet connection. Error: %s\", e\n",
    "        )\n",
    "\n",
    "    # Split the data into training and test sets. (0.75, 0.25) split.\n",
    "    train, test = train_test_split(data)\n",
    "\n",
    "    # The predicted column is \"quality\" which is a scalar from [3, 9]\n",
    "    train_x = train.drop([\"quality\"], axis=1)\n",
    "    test_x = test.drop([\"quality\"], axis=1)\n",
    "    train_y = train[[\"quality\"]]\n",
    "    test_y = test[[\"quality\"]]\n",
    "\n",
    "    alpha = 0.001\n",
    "    l1_ratio = 0.001\n",
    "\n",
    "    with mlflow.start_run():\n",
    "        lr = ElasticNet(alpha=alpha, l1_ratio=l1_ratio, random_state=42)\n",
    "        lr.fit(train_x, train_y)\n",
    "\n",
    "        predicted_qualities = lr.predict(test_x)\n",
    "\n",
    "        (rmse, mae, r2) = eval_metrics(test_y, predicted_qualities)\n",
    "\n",
    "        print(\"Elasticnet model (alpha={:f}, l1_ratio={:f}):\".format(alpha, l1_ratio))\n",
    "        print(\"  RMSE: %s\" % rmse)\n",
    "        print(\"  MAE: %s\" % mae)\n",
    "        print(\"  R2: %s\" % r2)\n",
    "\n",
    "        mlflow.log_param(\"alpha\", alpha)\n",
    "        mlflow.log_param(\"l1_ratio\", l1_ratio)\n",
    "        mlflow.log_metric(\"rmse\", rmse)\n",
    "        mlflow.log_metric(\"r2\", r2)\n",
    "        mlflow.log_metric(\"mae\", mae)\n",
    "\n",
    "        tracking_url_type_store = urlparse(mlflow.get_tracking_uri()).scheme\n",
    "        IS_AUTOREGISTER = False\n",
    "        # Model registry does not work with file store\n",
    "        if (tracking_url_type_store != \"file\") and IS_AUTOREGISTER:\n",
    "            # Register the model\n",
    "            # There are other ways to use the Model Registry, which depends on the use case,\n",
    "            # please refer to the doc for more information:\n",
    "            # https://mlflow.org/docs/latest/model-registry.html#api-workflow\n",
    "            mlflow.sklearn.log_model(lr, \"model\", registered_model_name=\"ElasticnetWineModel\")\n",
    "        else:\n",
    "            mlflow.sklearn.log_model(lr, \"model\")\n",
    "        "
   ]
  },
  {
   "attachments": {},
   "cell_type": "markdown",
   "metadata": {},
   "source": [
    "### Agrego ajuste de HPs"
   ]
  },
  {
   "cell_type": "code",
   "execution_count": 5,
   "metadata": {},
   "outputs": [],
   "source": [
    "from sklearn.model_selection import RandomizedSearchCV\n",
    "from scipy.stats import uniform\n",
    "\n",
    "# Crear un diccionario con los parámetros que deseamos optimizar\n",
    "param_dist = {\n",
    "    \"alpha\": uniform(0, 1),\n",
    "    \"l1_ratio\": uniform(0, 1),\n",
    "    \"fit_intercept\": [True, False],\n",
    "    \"max_iter\": [1000, 5000, 10000],\n",
    "}"
   ]
  },
  {
   "cell_type": "code",
   "execution_count": 6,
   "metadata": {},
   "outputs": [
    {
     "name": "stderr",
     "output_type": "stream",
     "text": [
      "2023/05/13 11:50:34 INFO mlflow.sklearn.utils: Logging the 5 best runs, 5 runs will be omitted.\n"
     ]
    },
    {
     "name": "stdout",
     "output_type": "stream",
     "text": [
      "Elasticnet model (alpha=0.001000, l1_ratio=0.001000):\n",
      "  RMSE: 0.7073562370554966\n",
      "  MAE: 0.5421911963360845\n",
      "  R2: 0.2910589832435101\n"
     ]
    }
   ],
   "source": [
    "mlflow.sklearn.autolog()\n",
    "tags = {\n",
    "    \"Country\": \"Brasil\",\n",
    "    \"Model Type\": \"ElasticNet\",\n",
    "}\n",
    "with mlflow.start_run():\n",
    "    mlflow.set_tags(tags)\n",
    "    eNet_model = ElasticNet(random_state=42)\n",
    "\n",
    "    randomized_search = RandomizedSearchCV(\n",
    "        estimator=eNet_model,\n",
    "        param_distributions=param_dist,\n",
    "        n_iter=10,\n",
    "        cv=5,\n",
    "        n_jobs=-1\n",
    "    )\n",
    "\n",
    "    randomized_search.fit(train_x, train_y)\n",
    "\n",
    "    predicted_qualities = randomized_search.predict(test_x)\n",
    "\n",
    "    (rmse, mae, r2) = eval_metrics(test_y, predicted_qualities)\n",
    "\n",
    "    print(\"Elasticnet model (alpha={:f}, l1_ratio={:f}):\".format(alpha, l1_ratio))\n",
    "    print(\"  RMSE: %s\" % rmse)\n",
    "    print(\"  MAE: %s\" % mae)\n",
    "    print(\"  R2: %s\" % r2)\n",
    "\n",
    "    mlflow.log_param(\"alpha\", alpha)\n",
    "    mlflow.log_param(\"l1_ratio\", l1_ratio)\n",
    "    mlflow.log_metric(\"rmse\", rmse)\n",
    "    mlflow.log_metric(\"r2\", r2)\n",
    "    mlflow.log_metric(\"mae\", mae)\n",
    "\n",
    "    tracking_url_type_store = urlparse(mlflow.get_tracking_uri()).scheme\n",
    "    IS_AUTOREGISTER = False\n",
    "    # Model registry does not work with file store\n",
    "    if (tracking_url_type_store != \"file\") and IS_AUTOREGISTER:\n",
    "        # Register the model\n",
    "        # There are other ways to use the Model Registry, which depends on the use case,\n",
    "        # please refer to the doc for more information:\n",
    "        # https://mlflow.org/docs/latest/model-registry.html#api-workflow\n",
    "        mlflow.sklearn.log_model(randomized_search, \"model\", registered_model_name=\"ElasticnetWineModel\")\n",
    "    else:\n",
    "        mlflow.sklearn.log_model(randomized_search, \"model\")"
   ]
  },
  {
   "attachments": {},
   "cell_type": "markdown",
   "metadata": {},
   "source": [
    "### ¿Cómo uso los modelos registrados para generar predicciónes?"
   ]
  },
  {
   "cell_type": "code",
   "execution_count": 9,
   "metadata": {},
   "outputs": [
    {
     "name": "stderr",
     "output_type": "stream",
     "text": [
      "2023/05/13 12:25:02 WARNING mlflow.pyfunc: Detected one or more mismatches between the model's dependencies and the current Python environment:\n",
      " - mlflow (current: 2.3.2, required: mlflow==2.3)\n",
      "To fix the mismatches, call `mlflow.pyfunc.get_model_dependencies(model_uri)` to fetch the model's environment and install dependencies using the resulting environment file.\n",
      "2023/05/13 12:25:03 WARNING mlflow.pyfunc: Detected one or more mismatches between the model's dependencies and the current Python environment:\n",
      " - mlflow (current: 2.3.2, required: mlflow==2.3)\n",
      "To fix the mismatches, call `mlflow.pyfunc.get_model_dependencies(model_uri)` to fetch the model's environment and install dependencies using the resulting environment file.\n",
      "2023/05/13 12:25:03 WARNING mlflow.pyfunc: Detected one or more mismatches between the model's dependencies and the current Python environment:\n",
      " - mlflow (current: 2.3.2, required: mlflow==2.3)\n",
      "To fix the mismatches, call `mlflow.pyfunc.get_model_dependencies(model_uri)` to fetch the model's environment and install dependencies using the resulting environment file.\n"
     ]
    }
   ],
   "source": [
    "# Cargo modelos según su estado\n",
    "model_production = mlflow.pyfunc.load_model('models:/wine_predictor/production')\n",
    "model_staging = mlflow.pyfunc.load_model('models:/wine_predictor/staging')\n",
    "\n",
    "# Cargo modelos según su número de versión\n",
    "model_v2 = mlflow.pyfunc.load_model('models:/wine_predictor/2')"
   ]
  },
  {
   "cell_type": "code",
   "execution_count": 7,
   "metadata": {},
   "outputs": [
    {
     "name": "stderr",
     "output_type": "stream",
     "text": [
      "2023/05/13 12:23:53 WARNING mlflow.pyfunc: Detected one or more mismatches between the model's dependencies and the current Python environment:\n",
      " - mlflow (current: 2.3.2, required: mlflow==2.3)\n",
      "To fix the mismatches, call `mlflow.pyfunc.get_model_dependencies(model_uri)` to fetch the model's environment and install dependencies using the resulting environment file.\n"
     ]
    }
   ],
   "source": [
    "# Cargo modelo según el Run ID en que fué creado\n",
    "logged_model = 'runs:/db0a15fe573f413798bf4b5d786d81d8/model'\n",
    "\n",
    "# Load model as a PyFuncModel.\n",
    "loaded_model = mlflow.pyfunc.load_model(logged_model)"
   ]
  },
  {
   "attachments": {},
   "cell_type": "markdown",
   "metadata": {},
   "source": [
    "Pregunta: ¿Cuál de las formas antes vistas es preferible?"
   ]
  },
  {
   "cell_type": "code",
   "execution_count": 12,
   "metadata": {},
   "outputs": [
    {
     "data": {
      "text/plain": [
       "array([5.87293694, 4.96801408, 5.82508844, 6.40678195, 5.33057884,\n",
       "       5.41679834, 5.92877456, 6.05740966, 5.38539593, 5.5090109 ,\n",
       "       5.95979193, 5.60860378, 6.01295389, 6.38858278, 5.30502856,\n",
       "       5.9144681 , 5.93526841, 5.11970663, 5.31824978, 5.26800046,\n",
       "       5.28496281, 5.47898316, 4.98048242, 5.47295505, 6.20779065,\n",
       "       5.51503779, 5.57965964, 5.32791035, 5.87047863, 5.41816862,\n",
       "       5.53552732, 5.68004797, 5.25329461, 5.13154251, 5.17504122,\n",
       "       5.54411597, 6.56699112, 5.17795214, 5.8256639 , 5.54709817,\n",
       "       5.38383908, 5.67250473, 5.45655693, 5.74704323, 5.93685271,\n",
       "       5.18089733, 5.65355992, 6.00904975, 6.5673674 , 5.09459259,\n",
       "       6.05740966, 5.28553516, 5.30885492, 6.23891235, 5.90650865,\n",
       "       5.11997504, 5.68045932, 5.69473777, 6.00108828, 5.49909503,\n",
       "       6.01979187, 5.16875806, 5.69799429, 5.19345097, 5.77796839,\n",
       "       5.64839021, 5.17301518, 5.57675441, 6.028012  , 6.32678032,\n",
       "       5.34506746, 5.18357159, 5.58654886, 5.95740748, 5.86406799,\n",
       "       5.19454952, 5.17023592, 5.54452003, 5.83441548, 6.01218573,\n",
       "       5.87014529, 6.23255994, 6.03475175, 5.45867419, 5.98806208,\n",
       "       5.37954068, 6.04488395, 5.30217594, 5.44243732, 5.14754515,\n",
       "       5.4196733 , 5.95370699, 5.70128702, 5.2688206 , 5.9383919 ,\n",
       "       5.44481043, 5.58380386, 6.07698287, 6.09432807, 5.18986604,\n",
       "       5.38011385, 5.80735634, 5.46655634, 5.44648307, 6.30861573,\n",
       "       6.24456382, 5.74863888, 5.55240263, 5.11176885, 5.80739401,\n",
       "       6.82741887, 5.27837278, 5.89148825, 5.98527485, 5.05715668,\n",
       "       5.21056226, 5.42605493, 6.13955802, 6.09763291, 5.53665747,\n",
       "       5.36622841, 5.23002037, 5.40202012, 5.22537344, 5.10308561,\n",
       "       5.78635063, 5.8691568 , 5.39014894, 6.262126  , 5.6440225 ,\n",
       "       5.50810729, 5.43729066, 6.28782558, 5.20025743, 5.29507694,\n",
       "       5.63468329, 5.42590241, 5.59777122, 5.25437167, 5.28164175,\n",
       "       5.56420258, 5.8256639 , 5.97286671, 5.39300641, 5.88815279,\n",
       "       5.53968335, 5.55238364, 5.79050028, 6.22070839, 6.05086913,\n",
       "       5.82872129, 5.72134246, 5.22729799, 5.65790698, 5.91993462,\n",
       "       5.29999046, 5.31185154, 6.30437293, 5.7884686 , 5.47918649,\n",
       "       5.86910121, 5.35602252, 6.21856289, 6.02926769, 5.57965964,\n",
       "       5.10933772, 5.45675692, 5.23402079, 6.36632791, 5.32758069,\n",
       "       5.13755537, 6.26850134, 5.74737248, 5.26405551, 4.96100731,\n",
       "       5.47243979, 6.05392031, 5.15902231, 5.39469365, 5.4131397 ,\n",
       "       5.69647797, 5.62595671, 5.2932184 , 5.81774575, 5.40433604,\n",
       "       5.43686083, 5.58703525, 5.9725709 , 5.44648307, 6.398053  ,\n",
       "       5.72131081, 4.9790314 , 5.18287237, 5.39845934, 5.1572431 ,\n",
       "       5.28508756, 5.37541807, 5.26729595, 6.05775061, 5.97845696,\n",
       "       5.1535031 , 5.34485558, 6.01524442, 5.52208389, 6.37317482,\n",
       "       5.86805819, 6.09282382, 5.4046281 , 5.9406178 , 6.33538646,\n",
       "       6.19611779, 5.5683675 , 5.7036389 , 6.03522828, 5.32209136,\n",
       "       5.71557153, 6.41038117, 5.20064505, 6.09498841, 5.62830988,\n",
       "       6.00268663, 5.93433701, 5.32373431, 5.54594142, 5.73546679,\n",
       "       5.94838936, 5.32654501, 5.05054671, 5.21059269, 5.30745434,\n",
       "       5.35926016, 5.30340939, 5.79840522, 6.25464072, 5.63849004,\n",
       "       5.64438011, 5.95646099, 4.96666441, 5.55501699, 5.35200398,\n",
       "       6.4774531 , 6.12865723, 6.16574543, 5.36281605, 5.53294548,\n",
       "       5.68725305, 6.21368701, 5.68592791, 5.82910144, 5.09345838,\n",
       "       5.84517069, 5.11785995, 5.5158423 , 5.13631382, 5.08324322,\n",
       "       6.36935554, 6.13600074, 5.49941579, 5.78769071, 6.3344818 ,\n",
       "       5.01687115, 5.07461814, 5.58467434, 5.36281605, 5.22942383,\n",
       "       5.53912264, 5.52909831, 4.97823399, 5.18841259, 5.00428486,\n",
       "       5.38659775, 5.32032539, 5.2021507 , 6.23970756, 5.45882945,\n",
       "       6.30577075, 5.84192249, 5.53428056, 5.30486196, 5.35882834,\n",
       "       5.18694146, 5.09869084, 5.5158423 , 4.98623915, 5.19620141,\n",
       "       5.1003435 , 5.44194832, 5.58360788, 6.3695271 , 6.03091297,\n",
       "       5.94534147, 6.04488395, 5.86003499, 5.99167294, 5.26729595,\n",
       "       5.67280947, 5.33838553, 5.48421978, 5.14687643, 5.31958925,\n",
       "       5.92288953, 5.88575266, 6.54591977, 5.89299388, 5.55197539,\n",
       "       5.12831512, 5.12571737, 6.44270541, 5.62722465, 5.77319971,\n",
       "       5.38611875, 5.59085751, 5.09795115, 5.04986682, 6.15999664,\n",
       "       6.22472177, 5.8382723 , 5.11598421, 5.99623198, 5.81527518,\n",
       "       6.17065781, 5.4765462 , 5.34672539, 5.86225665, 5.72481795,\n",
       "       7.45481165, 6.10106762, 5.39760562, 6.06197527, 5.13886928,\n",
       "       5.32163022, 5.56799347, 6.47360239, 5.35523484, 5.86628483,\n",
       "       6.06805218, 5.39046704, 5.57503735, 5.70430035, 6.31478042,\n",
       "       6.1657796 , 5.96549349, 5.47387823, 4.92306761, 5.11129022,\n",
       "       5.3155159 , 6.3364128 , 4.96767267, 6.38830598, 5.38427387,\n",
       "       5.94836706, 4.99905659, 5.85007922, 5.14183153, 5.2839622 ,\n",
       "       5.58380386, 6.33822111, 5.65720814, 5.1713188 , 5.94754287,\n",
       "       6.02030921, 6.08520997, 5.25218308, 5.00346629, 4.97823399,\n",
       "       5.70843436, 5.34827325, 5.90247918, 5.26595568, 5.11856182,\n",
       "       5.90687358, 5.84192249, 5.83320268, 5.40967184, 5.30030655,\n",
       "       6.03730262, 5.48160983, 6.18367167, 5.10911958, 5.33714873,\n",
       "       6.32521679, 6.00680825, 6.3695271 , 5.25672424, 5.93243532,\n",
       "       5.35399941, 5.3570147 , 6.35338043, 5.55064163, 5.20389569,\n",
       "       6.27504549, 5.20389569, 6.59619934, 5.48650517, 5.70128702,\n",
       "       5.571878  , 5.15646236, 5.68725305, 5.3575343 , 5.04167683])"
      ]
     },
     "execution_count": 12,
     "metadata": {},
     "output_type": "execute_result"
    }
   ],
   "source": [
    "model_v2.predict(test_x)"
   ]
  },
  {
   "attachments": {},
   "cell_type": "markdown",
   "metadata": {},
   "source": [
    "#### **ACTIVIDAD:** levantar el host de mlflow, entrenar un RandomForest, registrarlo, pasarlo a producción y realizar inferencia con ese modelo."
   ]
  }
 ],
 "metadata": {
  "kernelspec": {
   "display_name": "MLops",
   "language": "python",
   "name": "python3"
  },
  "language_info": {
   "codemirror_mode": {
    "name": "ipython",
    "version": 3
   },
   "file_extension": ".py",
   "mimetype": "text/x-python",
   "name": "python",
   "nbconvert_exporter": "python",
   "pygments_lexer": "ipython3",
   "version": "3.8.16"
  },
  "orig_nbformat": 4
 },
 "nbformat": 4,
 "nbformat_minor": 2
}
